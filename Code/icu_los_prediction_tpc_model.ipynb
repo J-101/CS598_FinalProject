{
 "cells": [
  {
   "cell_type": "code",
   "execution_count": 36,
   "id": "7d40d934",
   "metadata": {},
   "outputs": [],
   "source": [
    "import pandas as pd\n",
    "import numpy as np\n",
    "import matplotlib.pyplot as plt\n",
    "from sklearn.model_selection import train_test_split\n",
    "from sklearn.preprocessing import OneHotEncoder, StandardScaler\n",
    "from sklearn.linear_model import LinearRegression\n",
    "from sklearn.metrics import mean_absolute_error, mean_squared_error"
   ]
  },
  {
   "cell_type": "code",
   "execution_count": null,
   "id": "86c88c21",
   "metadata": {},
   "outputs": [],
   "source": [
    "BASE_PATH = r\"...\\TPC-LoS-prediction-master\\data\\mimic_subset\" # Modify the ... to correct path\n",
    "\n",
    "icustays = pd.read_csv(\n",
    "    f\"{BASE_PATH}/icustays.csv.gz\", \n",
    "    compression='gzip',\n",
    "    dtype={'subject_id': 'int32', 'hadm_id': 'int32'}\n",
    ")\n",
    "patients = pd.read_csv(\n",
    "    f\"{BASE_PATH}/patients.csv.gz\",\n",
    "    compression='gzip',\n",
    "    dtype={'subject_id': 'int32', 'anchor_age': 'int8'}\n",
    ")\n",
    "admissions = pd.read_csv(\n",
    "    f\"{BASE_PATH}/admissions.csv.gz\",\n",
    "    compression='gzip',\n",
    "    dtype={'subject_id': 'int32', 'hadm_id': 'int32'}\n",
    ")"
   ]
  },
  {
   "cell_type": "code",
   "execution_count": 38,
   "id": "e33c0b1d",
   "metadata": {},
   "outputs": [
    {
     "name": "stdout",
     "output_type": "stream",
     "text": [
      "Dropped 14 invalid LoS records\n",
      "Cleaned cohort: 65265 patients\n",
      "       subject_id gender  anchor_age              race insurance   los_hours\n",
      "76467    18106347      F          48             WHITE   Private   31.028056\n",
      "67874    17195991      F          61  UNABLE TO OBTAIN   Private   69.227500\n",
      "59297    16284044      F          61             WHITE   Private   60.598056\n",
      "76629    18122666      M          60             WHITE  Medicare   29.776667\n",
      "51595    15463892      M          83             WHITE  Medicare  119.530278\n"
     ]
    }
   ],
   "source": [
    "cohort = (\n",
    "icustays\n",
    "    .merge(patients[[\"subject_id\", \"gender\", \"anchor_age\"]], \n",
    "            on=\"subject_id\", how=\"inner\")\n",
    "    .merge(admissions[[\"subject_id\", \"hadm_id\", \"race\", \"insurance\"]], \n",
    "            on=[\"subject_id\", \"hadm_id\"], how=\"inner\")\n",
    ")\n",
    "\n",
    "# Convert datetimes w/ null check\n",
    "cohort[\"intime\"] = pd.to_datetime(cohort[\"intime\"], errors='coerce')\n",
    "cohort[\"outtime\"] = pd.to_datetime(cohort[\"outtime\"], errors='coerce')\n",
    "\n",
    "# Calculate LoS w/ validation\n",
    "cohort[\"los_hours\"] = (cohort[\"outtime\"] - cohort[\"intime\"]).dt.total_seconds() / 3600\n",
    "if cohort[\"los_hours\"].isnull().any():\n",
    "    print(f\"Dropped {cohort['los_hours'].isnull().sum()} invalid LoS records\")\n",
    "    cohort = cohort.dropna(subset=[\"los_hours\"])\n",
    "\n",
    "# Filtering\n",
    "cohort = cohort[cohort[\"los_hours\"] <= 1000]\n",
    "cohort = cohort.sort_values(\"intime\").groupby(\"subject_id\").head(1)\n",
    "\n",
    "print(\"Cleaned cohort:\", len(cohort), \"patients\")\n",
    "print(cohort[[\"subject_id\", \"gender\", \"anchor_age\", \"race\", \"insurance\", \"los_hours\"]].head())"
   ]
  },
  {
   "cell_type": "code",
   "execution_count": 39,
   "id": "0f22e992",
   "metadata": {},
   "outputs": [
    {
     "name": "stderr",
     "output_type": "stream",
     "text": [
      "C:\\Users\\jakeh\\AppData\\Local\\Packages\\PythonSoftwareFoundation.Python.3.10_qbz5n2kfra8p0\\LocalCache\\local-packages\\Python310\\site-packages\\sklearn\\preprocessing\\_encoders.py:868: FutureWarning: `sparse` was renamed to `sparse_output` in version 1.2 and will be removed in 1.4. `sparse_output` is ignored unless you leave `sparse` to its default value.\n",
      "  warnings.warn(\n",
      "C:\\Users\\jakeh\\AppData\\Local\\Temp\\ipykernel_26064\\1924083676.py:11: SettingWithCopyWarning: \n",
      "A value is trying to be set on a copy of a slice from a DataFrame.\n",
      "Try using .loc[row_indexer,col_indexer] = value instead\n",
      "\n",
      "See the caveats in the documentation: https://pandas.pydata.org/pandas-docs/stable/user_guide/indexing.html#returning-a-view-versus-a-copy\n",
      "  X_num[\"admit_hour\"] = cohort[\"intime\"].dt.hour\n"
     ]
    }
   ],
   "source": [
    "# Handle missing values\n",
    "for col in [\"gender\", \"race\", \"insurance\"]:\n",
    "    cohort[col] = cohort[col].fillna('UNKNOWN').astype('category')\n",
    "\n",
    "# Encode categorical features\n",
    "encoder = OneHotEncoder(sparse=False, handle_unknown='ignore')\n",
    "X_cat = encoder.fit_transform(cohort[[\"gender\", \"race\", \"insurance\"]])\n",
    "\n",
    "# Add age and admission hour\n",
    "X_num = cohort[[\"anchor_age\"]]\n",
    "X_num[\"admit_hour\"] = cohort[\"intime\"].dt.hour\n",
    "\n",
    "# Combine features\n",
    "scaler = StandardScaler()\n",
    "X_num_scaled = scaler.fit_transform(X_num)\n",
    "X_combined = np.hstack([X_cat, X_num_scaled])\n",
    "\n",
    "y = cohort[\"los_hours\"]\n",
    "X_train, X_test, y_train, y_test = train_test_split(X_combined, y, test_size=0.2, random_state=42)"
   ]
  },
  {
   "cell_type": "code",
   "execution_count": 40,
   "id": "c8939720",
   "metadata": {},
   "outputs": [
    {
     "name": "stdout",
     "output_type": "stream",
     "text": [
      "\n",
      " Model Performance:\n",
      "MAE: 64.6 hours\n",
      "RMSE: 108.5 hours\n"
     ]
    }
   ],
   "source": [
    "model = LinearRegression()\n",
    "model.fit(X_train, y_train)\n",
    "\n",
    "y_pred = model.predict(X_test)\n",
    "print(\"\\n Model Performance:\")\n",
    "print(f\"MAE: {mean_absolute_error(y_test, y_pred):.1f} hours\")\n",
    "print(f\"RMSE: {np.sqrt(mean_squared_error(y_test, y_pred)):.1f} hours\")"
   ]
  },
  {
   "cell_type": "code",
   "execution_count": 41,
   "id": "3605faee",
   "metadata": {},
   "outputs": [
    {
     "data": {
      "image/png": "[encoded data removed]",
      "text/plain": [
       "<Figure size 1000x600 with 1 Axes>"
      ]
     },
     "metadata": {},
     "output_type": "display_data"
    }
   ],
   "source": [
    "plt.figure(figsize=(10,6))\n",
    "plt.scatter(y_test, y_pred, alpha=0.4, label='Predictions')\n",
    "plt.plot([0, 200], [0, 200], 'r--', label='Perfect Prediction')\n",
    "plt.xlabel(\"Actual LoS (hours)\")\n",
    "plt.ylabel(\"Predicted LoS (hours)\")\n",
    "plt.title(\"ICU Length of Stay Prediction\\n(Gender + Age + Race + Insurance + Admission Hour)\")\n",
    "plt.legend()\n",
    "plt.grid(True)\n",
    "plt.show()"
   ]
  },
  {
   "cell_type": "code",
   "execution_count": 42,
   "id": "016a515f",
   "metadata": {},
   "outputs": [],
   "source": [
    "import torch\n",
    "import torch.nn as nn\n",
    "import torch.nn.functional as F\n",
    "\n",
    "class TPCBlock(nn.Module):\n",
    "    def __init__(self, num_features):\n",
    "        super().__init__()\n",
    "        self.feature_convs = nn.Conv1d(num_features, num_features, kernel_size=3, padding=1, groups=num_features)\n",
    "        self.mixing_conv = nn.Conv1d(num_features, num_features, kernel_size=1)\n",
    "        self.norm = nn.BatchNorm1d(num_features)\n",
    "        self.relu = nn.ReLU()\n",
    "\n",
    "    def forward(self, x):\n",
    "        residual = x\n",
    "        x = x.transpose(1, 2) # (B, F, T)\n",
    "        x = self.feature_convs(x)\n",
    "        x = self.mixing_conv(x)\n",
    "        x = self.norm(x)\n",
    "        x = self.relu(x)\n",
    "        x = x.transpose(1, 2) # (B, T, F)\n",
    "        return x + residual\n",
    "\n",
    "class TPCNetwork(nn.Module):\n",
    "    def __init__(self, num_features, num_blocks=3):\n",
    "        super().__init__()\n",
    "        self.blocks = nn.Sequential(*[TPCBlock(num_features) for _ in range(num_blocks)])\n",
    "        self.global_avg_pool = nn.AdaptiveAvgPool1d(1)\n",
    "        self.fc = nn.Linear(num_features, 1)\n",
    "\n",
    "    def forward(self, x):\n",
    "        x = self.blocks(x)\n",
    "        x = x.transpose(1, 2) # (B, F, T)\n",
    "        x = self.global_avg_pool(x) # (B, F, 1)\n",
    "        x = x.squeeze(-1) # (B, F)\n",
    "        x = self.fc(x).squeeze(-1) # (B,)\n",
    "        return x\n",
    "\n",
    "# Create dummy data and DataLoaders\n",
    "batch_size = 32\n",
    "time_steps = 48\n",
    "num_features = 64\n",
    "num_samples = 1000\n",
    "\n",
    "X = torch.randn(num_samples, time_steps, num_features)\n",
    "y = torch.randn(num_samples)\n",
    "\n",
    "train_size = int(0.8 * num_samples)\n",
    "val_size = num_samples - train_size\n",
    "train_dataset, val_dataset = random_split(TensorDataset(X, y), [train_size, val_size])\n",
    "\n",
    "train_loader = DataLoader(train_dataset, batch_size=batch_size, shuffle=True)\n",
    "val_loader = DataLoader(val_dataset, batch_size=batch_size)\n",
    "\n",
    "class TPCNetwork(nn.Module):\n",
    "    def __init__(self, num_features, num_blocks=3, hidden_dim=128):\n",
    "        super().__init__()\n",
    "\n",
    "        self.blocks = nn.Sequential(*[\n",
    "            TPCBlock(num_features) for _ in range(num_blocks)\n",
    "        ])\n",
    "\n",
    "        self.global_pool = nn.AdaptiveAvgPool1d(1) # Pool over time\n",
    "\n",
    "        self.fc = nn.Sequential(\n",
    "            nn.Flatten(),  # (B, F, 1) → (B, F)\n",
    "            nn.Linear(num_features, hidden_dim),\n",
    "            nn.ReLU(inplace=True),\n",
    "            nn.Linear(hidden_dim, 1) # Predict LoS\n",
    "        )\n",
    "\n",
    "    def forward(self, x):\n",
    "        x = self.blocks(x)\n",
    "        x = x.transpose(1, 2)\n",
    "        x = self.global_pool(x)\n",
    "\n",
    "        out = self.fc(x)\n",
    "        return out.squeeze(-1)"
   ]
  },
  {
   "cell_type": "code",
   "execution_count": 43,
   "id": "1accb7f0",
   "metadata": {},
   "outputs": [
    {
     "name": "stdout",
     "output_type": "stream",
     "text": [
      "torch.Size([32])\n"
     ]
    }
   ],
   "source": [
    "model = TPCNetwork(num_features=64)\n",
    "x = torch.randn(32, 48, 64) # 32 patients, 48 hours, 64 features\n",
    "out = model(x)\n",
    "print(out.shape) # torch.Size([32])"
   ]
  },
  {
   "cell_type": "code",
   "execution_count": 44,
   "id": "ebcdd287",
   "metadata": {},
   "outputs": [
    {
     "name": "stdout",
     "output_type": "stream",
     "text": [
      "TPCNetwork(\n",
      "  (blocks): Sequential(\n",
      "    (0): TPCBlock(\n",
      "      (feature_convs): Conv1d(64, 64, kernel_size=(3,), stride=(1,), padding=(1,), groups=64)\n",
      "      (mixing_conv): Conv1d(64, 64, kernel_size=(1,), stride=(1,))\n",
      "      (norm): BatchNorm1d(64, eps=1e-05, momentum=0.1, affine=True, track_running_stats=True)\n",
      "      (relu): ReLU()\n",
      "    )\n",
      "    (1): TPCBlock(\n",
      "      (feature_convs): Conv1d(64, 64, kernel_size=(3,), stride=(1,), padding=(1,), groups=64)\n",
      "      (mixing_conv): Conv1d(64, 64, kernel_size=(1,), stride=(1,))\n",
      "      (norm): BatchNorm1d(64, eps=1e-05, momentum=0.1, affine=True, track_running_stats=True)\n",
      "      (relu): ReLU()\n",
      "    )\n",
      "    (2): TPCBlock(\n",
      "      (feature_convs): Conv1d(64, 64, kernel_size=(3,), stride=(1,), padding=(1,), groups=64)\n",
      "      (mixing_conv): Conv1d(64, 64, kernel_size=(1,), stride=(1,))\n",
      "      (norm): BatchNorm1d(64, eps=1e-05, momentum=0.1, affine=True, track_running_stats=True)\n",
      "      (relu): ReLU()\n",
      "    )\n",
      "  )\n",
      "  (global_pool): AdaptiveAvgPool1d(output_size=1)\n",
      "  (fc): Sequential(\n",
      "    (0): Flatten(start_dim=1, end_dim=-1)\n",
      "    (1): Linear(in_features=64, out_features=128, bias=True)\n",
      "    (2): ReLU(inplace=True)\n",
      "    (3): Linear(in_features=128, out_features=1, bias=True)\n",
      "  )\n",
      ")\n",
      "Input shape: torch.Size([8, 48, 64])\n",
      "Output shape: torch.Size([8])\n",
      "Example loss value: 0.8358739614486694\n"
     ]
    }
   ],
   "source": [
    "import torch\n",
    "import torch.nn as nn\n",
    "\n",
    "num_features = 64\n",
    "time_steps = 48\n",
    "batch_size = 8\n",
    "\n",
    "model = TPCNetwork(num_features=num_features)\n",
    "print(model)\n",
    "\n",
    "x_dummy = torch.randn(batch_size, time_steps, num_features)\n",
    "output = model(x_dummy)\n",
    "\n",
    "print(\"Input shape:\", x_dummy.shape)\n",
    "print(\"Output shape:\", output.shape)\n",
    "\n",
    "# Loss computation\n",
    "target = torch.randn(batch_size)\n",
    "criterion = nn.MSELoss()\n",
    "loss = criterion(output, target)\n",
    "\n",
    "print(\"Example loss value:\", loss.item())"
   ]
  },
  {
   "cell_type": "code",
   "execution_count": 45,
   "id": "fc96da1c",
   "metadata": {},
   "outputs": [
    {
     "name": "stdout",
     "output_type": "stream",
     "text": [
      "Epoch 1/20\n"
     ]
    },
    {
     "name": "stderr",
     "output_type": "stream",
     "text": [
      "Training: 100%|██████████| 25/25 [00:00<00:00, 163.14it/s]\n",
      "Validation: 100%|██████████| 7/7 [00:00<00:00, 607.72it/s]\n"
     ]
    },
    {
     "name": "stdout",
     "output_type": "stream",
     "text": [
      "Train Loss: 1.0309 | Val Loss: 0.9591\n",
      "Best model saved with val loss: 0.9591\n",
      "Epoch 2/20\n"
     ]
    },
    {
     "name": "stderr",
     "output_type": "stream",
     "text": [
      "Training: 100%|██████████| 25/25 [00:00<00:00, 152.96it/s]\n",
      "Validation: 100%|██████████| 7/7 [00:00<00:00, 735.92it/s]\n"
     ]
    },
    {
     "name": "stdout",
     "output_type": "stream",
     "text": [
      "Train Loss: 0.9944 | Val Loss: 0.9152\n",
      "Best model saved with val loss: 0.9152\n",
      "Epoch 3/20\n"
     ]
    },
    {
     "name": "stderr",
     "output_type": "stream",
     "text": [
      "Training: 100%|██████████| 25/25 [00:00<00:00, 162.70it/s]\n",
      "Validation: 100%|██████████| 7/7 [00:00<00:00, 559.36it/s]\n"
     ]
    },
    {
     "name": "stdout",
     "output_type": "stream",
     "text": [
      "Train Loss: 1.0105 | Val Loss: 0.9156\n",
      "Epoch 4/20\n"
     ]
    },
    {
     "name": "stderr",
     "output_type": "stream",
     "text": [
      "Training: 100%|██████████| 25/25 [00:00<00:00, 143.16it/s]\n",
      "Validation: 100%|██████████| 7/7 [00:00<00:00, 626.84it/s]\n"
     ]
    },
    {
     "name": "stdout",
     "output_type": "stream",
     "text": [
      "Train Loss: 0.9490 | Val Loss: 0.9237\n",
      "Epoch 5/20\n"
     ]
    },
    {
     "name": "stderr",
     "output_type": "stream",
     "text": [
      "Training: 100%|██████████| 25/25 [00:00<00:00, 133.46it/s]\n",
      "Validation: 100%|██████████| 7/7 [00:00<00:00, 517.64it/s]\n"
     ]
    },
    {
     "name": "stdout",
     "output_type": "stream",
     "text": [
      "Train Loss: 0.9070 | Val Loss: 1.0555\n",
      "Epoch 6/20\n"
     ]
    },
    {
     "name": "stderr",
     "output_type": "stream",
     "text": [
      "Training: 100%|██████████| 25/25 [00:00<00:00, 148.20it/s]\n",
      "Validation: 100%|██████████| 7/7 [00:00<00:00, 559.40it/s]\n"
     ]
    },
    {
     "name": "stdout",
     "output_type": "stream",
     "text": [
      "Train Loss: 0.8949 | Val Loss: 0.9607\n",
      "Epoch 7/20\n"
     ]
    },
    {
     "name": "stderr",
     "output_type": "stream",
     "text": [
      "Training: 100%|██████████| 25/25 [00:00<00:00, 166.43it/s]\n",
      "Validation: 100%|██████████| 7/7 [00:00<00:00, 665.22it/s]\n"
     ]
    },
    {
     "name": "stdout",
     "output_type": "stream",
     "text": [
      "Train Loss: 0.8464 | Val Loss: 0.9884\n",
      "Epoch 8/20\n"
     ]
    },
    {
     "name": "stderr",
     "output_type": "stream",
     "text": [
      "Training: 100%|██████████| 25/25 [00:00<00:00, 163.69it/s]\n",
      "Validation: 100%|██████████| 7/7 [00:00<00:00, 608.03it/s]\n"
     ]
    },
    {
     "name": "stdout",
     "output_type": "stream",
     "text": [
      "Train Loss: 0.7616 | Val Loss: 1.0020\n",
      "Epoch 9/20\n"
     ]
    },
    {
     "name": "stderr",
     "output_type": "stream",
     "text": [
      "Training: 100%|██████████| 25/25 [00:00<00:00, 163.47it/s]\n",
      "Validation: 100%|██████████| 7/7 [00:00<00:00, 602.63it/s]\n"
     ]
    },
    {
     "name": "stdout",
     "output_type": "stream",
     "text": [
      "Train Loss: 0.6661 | Val Loss: 1.1041\n",
      "Epoch 10/20\n"
     ]
    },
    {
     "name": "stderr",
     "output_type": "stream",
     "text": [
      "Training: 100%|██████████| 25/25 [00:00<00:00, 162.99it/s]\n",
      "Validation: 100%|██████████| 7/7 [00:00<00:00, 629.18it/s]\n"
     ]
    },
    {
     "name": "stdout",
     "output_type": "stream",
     "text": [
      "Train Loss: 0.5649 | Val Loss: 1.0890\n",
      "Epoch 11/20\n"
     ]
    },
    {
     "name": "stderr",
     "output_type": "stream",
     "text": [
      "Training: 100%|██████████| 25/25 [00:00<00:00, 166.44it/s]\n",
      "Validation: 100%|██████████| 7/7 [00:00<00:00, 698.77it/s]\n"
     ]
    },
    {
     "name": "stdout",
     "output_type": "stream",
     "text": [
      "Train Loss: 0.4489 | Val Loss: 1.1326\n",
      "Epoch 12/20\n"
     ]
    },
    {
     "name": "stderr",
     "output_type": "stream",
     "text": [
      "Training: 100%|██████████| 25/25 [00:00<00:00, 155.06it/s]\n",
      "Validation: 100%|██████████| 7/7 [00:00<00:00, 546.26it/s]\n"
     ]
    },
    {
     "name": "stdout",
     "output_type": "stream",
     "text": [
      "Train Loss: 0.3371 | Val Loss: 1.1999\n",
      "Epoch 13/20\n"
     ]
    },
    {
     "name": "stderr",
     "output_type": "stream",
     "text": [
      "Training: 100%|██████████| 25/25 [00:00<00:00, 167.49it/s]\n",
      "Validation: 100%|██████████| 7/7 [00:00<00:00, 735.71it/s]\n"
     ]
    },
    {
     "name": "stdout",
     "output_type": "stream",
     "text": [
      "Train Loss: 0.2412 | Val Loss: 1.3812\n",
      "Epoch 14/20\n"
     ]
    },
    {
     "name": "stderr",
     "output_type": "stream",
     "text": [
      "Training: 100%|██████████| 25/25 [00:00<00:00, 167.16it/s]\n",
      "Validation: 100%|██████████| 7/7 [00:00<00:00, 628.02it/s]\n"
     ]
    },
    {
     "name": "stdout",
     "output_type": "stream",
     "text": [
      "Train Loss: 0.2019 | Val Loss: 1.1791\n",
      "Epoch 15/20\n"
     ]
    },
    {
     "name": "stderr",
     "output_type": "stream",
     "text": [
      "Training: 100%|██████████| 25/25 [00:00<00:00, 157.49it/s]\n",
      "Validation: 100%|██████████| 7/7 [00:00<00:00, 677.89it/s]\n"
     ]
    },
    {
     "name": "stdout",
     "output_type": "stream",
     "text": [
      "Train Loss: 0.1221 | Val Loss: 1.2115\n",
      "Epoch 16/20\n"
     ]
    },
    {
     "name": "stderr",
     "output_type": "stream",
     "text": [
      "Training: 100%|██████████| 25/25 [00:00<00:00, 161.43it/s]\n",
      "Validation: 100%|██████████| 7/7 [00:00<00:00, 736.05it/s]\n"
     ]
    },
    {
     "name": "stdout",
     "output_type": "stream",
     "text": [
      "Train Loss: 0.1073 | Val Loss: 1.2713\n",
      "Epoch 17/20\n"
     ]
    },
    {
     "name": "stderr",
     "output_type": "stream",
     "text": [
      "Training: 100%|██████████| 25/25 [00:00<00:00, 141.78it/s]\n",
      "Validation: 100%|██████████| 7/7 [00:00<00:00, 608.10it/s]\n"
     ]
    },
    {
     "name": "stdout",
     "output_type": "stream",
     "text": [
      "Train Loss: 0.1026 | Val Loss: 1.2523\n",
      "Epoch 18/20\n"
     ]
    },
    {
     "name": "stderr",
     "output_type": "stream",
     "text": [
      "Training: 100%|██████████| 25/25 [00:00<00:00, 129.64it/s]\n",
      "Validation: 100%|██████████| 7/7 [00:00<00:00, 607.90it/s]\n"
     ]
    },
    {
     "name": "stdout",
     "output_type": "stream",
     "text": [
      "Train Loss: 0.0980 | Val Loss: 1.2333\n",
      "Epoch 19/20\n"
     ]
    },
    {
     "name": "stderr",
     "output_type": "stream",
     "text": [
      "Training: 100%|██████████| 25/25 [00:00<00:00, 137.09it/s]\n",
      "Validation: 100%|██████████| 7/7 [00:00<00:00, 608.12it/s]\n"
     ]
    },
    {
     "name": "stdout",
     "output_type": "stream",
     "text": [
      "Train Loss: 0.0550 | Val Loss: 1.2458\n",
      "Epoch 20/20\n"
     ]
    },
    {
     "name": "stderr",
     "output_type": "stream",
     "text": [
      "Training: 100%|██████████| 25/25 [00:00<00:00, 146.80it/s]\n",
      "Validation: 100%|██████████| 7/7 [00:00<00:00, 582.42it/s]"
     ]
    },
    {
     "name": "stdout",
     "output_type": "stream",
     "text": [
      "Train Loss: 0.0741 | Val Loss: 1.4690\n"
     ]
    },
    {
     "name": "stderr",
     "output_type": "stream",
     "text": [
      "\n"
     ]
    }
   ],
   "source": [
    "import torch\n",
    "import torch.nn as nn\n",
    "import torch.optim as optim\n",
    "from torch.utils.data import DataLoader, TensorDataset, random_split\n",
    "from tqdm import tqdm\n",
    "\n",
    "device = torch.device('cuda' if torch.cuda.is_available() else 'cpu')\n",
    "model = TPCNetwork(num_features=num_features).to(device)\n",
    "\n",
    "criterion = nn.MSELoss()\n",
    "optimizer = optim.Adam(model.parameters(), lr=1e-3)\n",
    "\n",
    "best_val_loss = float('inf')\n",
    "save_path = 'best_tpc_model.pt'\n",
    "\n",
    "num_epochs = 20\n",
    "\n",
    "for epoch in range(num_epochs):\n",
    "    print(f\"Epoch {epoch+1}/{num_epochs}\")\n",
    "    \n",
    "    # Train\n",
    "    model.train()\n",
    "    train_loss = 0.0\n",
    "\n",
    "    for batch_X, batch_y in tqdm(train_loader, desc=\"Training\"):\n",
    "        batch_X, batch_y = batch_X.to(device), batch_y.to(device)\n",
    "\n",
    "        optimizer.zero_grad()\n",
    "        output = model(batch_X)\n",
    "        loss = criterion(output, batch_y)\n",
    "        loss.backward()\n",
    "        optimizer.step()\n",
    "\n",
    "        train_loss += loss.item() * batch_X.size(0)\n",
    "\n",
    "    train_loss /= len(train_loader.dataset)\n",
    "\n",
    "    # Validate\n",
    "    model.eval()\n",
    "    val_loss = 0.0\n",
    "\n",
    "    with torch.no_grad():\n",
    "        for batch_X, batch_y in tqdm(val_loader, desc=\"Validation\"):\n",
    "            batch_X, batch_y = batch_X.to(device), batch_y.to(device)\n",
    "\n",
    "            output = model(batch_X)\n",
    "            loss = criterion(output, batch_y)\n",
    "\n",
    "            val_loss += loss.item() * batch_X.size(0)\n",
    "\n",
    "    val_loss /= len(val_loader.dataset)\n",
    "\n",
    "    print(f\"Train Loss: {train_loss:.4f} | Val Loss: {val_loss:.4f}\")\n",
    "\n",
    "    # Save best model\n",
    "    if val_loss < best_val_loss:\n",
    "        best_val_loss = val_loss\n",
    "        torch.save(model.state_dict(), save_path)\n",
    "        print(f\"Best model saved with val loss: {val_loss:.4f}\")"
   ]
  },
  {
   "cell_type": "code",
   "execution_count": 46,
   "id": "82f255e6",
   "metadata": {},
   "outputs": [],
   "source": [
    "class TPCBlock(nn.Module):\n",
    "    def __init__(self, num_features):\n",
    "        super().__init__()\n",
    "        self.feature_convs = nn.Conv1d(num_features, num_features, kernel_size=3, padding=1, groups=num_features)\n",
    "        self.mixing_conv = nn.Conv1d(num_features, num_features, kernel_size=1)\n",
    "        self.norm = nn.BatchNorm1d(num_features)\n",
    "        self.relu = nn.ReLU()\n",
    "\n",
    "    def forward(self, x):\n",
    "        residual = x\n",
    "        x = x.transpose(1, 2)\n",
    "        x = self.feature_convs(x)\n",
    "        x = self.mixing_conv(x)\n",
    "        x = self.norm(x)\n",
    "        x = self.relu(x)\n",
    "        x = x.transpose(1, 2)\n",
    "        return x + residual\n",
    "\n",
    "class TPCNetwork(nn.Module):\n",
    "    def __init__(self, num_features, num_blocks=3):\n",
    "        super().__init__()\n",
    "        self.blocks = nn.Sequential(*[TPCBlock(num_features) for _ in range(num_blocks)])\n",
    "        self.global_avg_pool = nn.AdaptiveAvgPool1d(1)\n",
    "        self.fc = nn.Linear(num_features, 1)\n",
    "\n",
    "    def forward(self, x):\n",
    "        x = self.blocks(x)\n",
    "        x = x.transpose(1, 2)\n",
    "        x = self.global_avg_pool(x)\n",
    "        x = x.squeeze(-1)\n",
    "        x = self.fc(x).squeeze(-1)\n",
    "        return x"
   ]
  },
  {
   "cell_type": "code",
   "execution_count": 48,
   "id": "55dc7bdc",
   "metadata": {},
   "outputs": [],
   "source": [
    "# Hyperparams\n",
    "batch_size = 32\n",
    "time_steps = 48\n",
    "num_features = 64\n",
    "num_samples = 1000\n",
    "\n",
    "# Dummy data\n",
    "X = torch.randn(num_samples, time_steps, num_features)\n",
    "y = torch.randn(num_samples)\n",
    "\n",
    "# Train/validation split\n",
    "train_size = int(0.8 * num_samples)\n",
    "val_size = num_samples - train_size\n",
    "train_dataset, val_dataset = random_split(TensorDataset(X, y), [train_size, val_size])\n",
    "\n",
    "train_loader = DataLoader(train_dataset, batch_size=batch_size, shuffle=True)\n",
    "val_loader = DataLoader(val_dataset, batch_size=batch_size)"
   ]
  },
  {
   "cell_type": "code",
   "execution_count": 50,
   "id": "27cc99ff",
   "metadata": {},
   "outputs": [
    {
     "name": "stdout",
     "output_type": "stream",
     "text": [
      "Using device: cpu\n",
      "\n",
      "Epoch 1/20\n"
     ]
    },
    {
     "name": "stderr",
     "output_type": "stream",
     "text": [
      "                                                          \r"
     ]
    },
    {
     "name": "stdout",
     "output_type": "stream",
     "text": [
      "Train Loss: 1.2718 | Val Loss: 1.0446 | MAE: 0.8133 | RMSE: 1.0220\n",
      "Best model saved with Val Loss: 1.0446\n",
      "\n",
      "Epoch 2/20\n"
     ]
    },
    {
     "name": "stderr",
     "output_type": "stream",
     "text": [
      "                                                          \r"
     ]
    },
    {
     "name": "stdout",
     "output_type": "stream",
     "text": [
      "Train Loss: 0.8943 | Val Loss: 0.9757 | MAE: 0.8010 | RMSE: 0.9878\n",
      "Best model saved with Val Loss: 0.9757\n",
      "\n",
      "Epoch 3/20\n"
     ]
    },
    {
     "name": "stderr",
     "output_type": "stream",
     "text": [
      "                                                          \r"
     ]
    },
    {
     "name": "stdout",
     "output_type": "stream",
     "text": [
      "Train Loss: 0.8481 | Val Loss: 0.9797 | MAE: 0.8005 | RMSE: 0.9898\n",
      "\n",
      "Epoch 4/20\n"
     ]
    },
    {
     "name": "stderr",
     "output_type": "stream",
     "text": [
      "                                                          \r"
     ]
    },
    {
     "name": "stdout",
     "output_type": "stream",
     "text": [
      "Train Loss: 0.8122 | Val Loss: 0.9796 | MAE: 0.8034 | RMSE: 0.9898\n",
      "\n",
      "Epoch 5/20\n"
     ]
    },
    {
     "name": "stderr",
     "output_type": "stream",
     "text": [
      "                                                          \r"
     ]
    },
    {
     "name": "stdout",
     "output_type": "stream",
     "text": [
      "Train Loss: 0.7795 | Val Loss: 0.9899 | MAE: 0.8091 | RMSE: 0.9950\n",
      "\n",
      "Epoch 6/20\n"
     ]
    },
    {
     "name": "stderr",
     "output_type": "stream",
     "text": [
      "                                                          \r"
     ]
    },
    {
     "name": "stdout",
     "output_type": "stream",
     "text": [
      "Train Loss: 0.7373 | Val Loss: 1.0037 | MAE: 0.8142 | RMSE: 1.0019\n",
      "\n",
      "Epoch 7/20\n"
     ]
    },
    {
     "name": "stderr",
     "output_type": "stream",
     "text": [
      "                                                          \r"
     ]
    },
    {
     "name": "stdout",
     "output_type": "stream",
     "text": [
      "Train Loss: 0.6948 | Val Loss: 1.0178 | MAE: 0.8219 | RMSE: 1.0089\n",
      "\n",
      "Epoch 8/20\n"
     ]
    },
    {
     "name": "stderr",
     "output_type": "stream",
     "text": [
      "                                                          \r"
     ]
    },
    {
     "name": "stdout",
     "output_type": "stream",
     "text": [
      "Train Loss: 0.6523 | Val Loss: 1.0243 | MAE: 0.8218 | RMSE: 1.0121\n",
      "\n",
      "Epoch 9/20\n"
     ]
    },
    {
     "name": "stderr",
     "output_type": "stream",
     "text": [
      "                                                          \r"
     ]
    },
    {
     "name": "stdout",
     "output_type": "stream",
     "text": [
      "Train Loss: 0.5937 | Val Loss: 1.0418 | MAE: 0.8327 | RMSE: 1.0207\n",
      "\n",
      "Epoch 10/20\n"
     ]
    },
    {
     "name": "stderr",
     "output_type": "stream",
     "text": [
      "                                                          \r"
     ]
    },
    {
     "name": "stdout",
     "output_type": "stream",
     "text": [
      "Train Loss: 0.5450 | Val Loss: 1.0814 | MAE: 0.8521 | RMSE: 1.0399\n",
      "\n",
      "Epoch 11/20\n"
     ]
    },
    {
     "name": "stderr",
     "output_type": "stream",
     "text": [
      "                                                          \r"
     ]
    },
    {
     "name": "stdout",
     "output_type": "stream",
     "text": [
      "Train Loss: 0.4964 | Val Loss: 1.0803 | MAE: 0.8486 | RMSE: 1.0394\n",
      "\n",
      "Epoch 12/20\n"
     ]
    },
    {
     "name": "stderr",
     "output_type": "stream",
     "text": [
      "                                                          \r"
     ]
    },
    {
     "name": "stdout",
     "output_type": "stream",
     "text": [
      "Train Loss: 0.4259 | Val Loss: 1.2154 | MAE: 0.9118 | RMSE: 1.1025\n",
      "\n",
      "Epoch 13/20\n"
     ]
    },
    {
     "name": "stderr",
     "output_type": "stream",
     "text": [
      "                                                          \r"
     ]
    },
    {
     "name": "stdout",
     "output_type": "stream",
     "text": [
      "Train Loss: 0.3702 | Val Loss: 1.1294 | MAE: 0.8744 | RMSE: 1.0627\n",
      "\n",
      "Epoch 14/20\n"
     ]
    },
    {
     "name": "stderr",
     "output_type": "stream",
     "text": [
      "                                                          \r"
     ]
    },
    {
     "name": "stdout",
     "output_type": "stream",
     "text": [
      "Train Loss: 0.3001 | Val Loss: 1.2543 | MAE: 0.9231 | RMSE: 1.1200\n",
      "\n",
      "Epoch 15/20\n"
     ]
    },
    {
     "name": "stderr",
     "output_type": "stream",
     "text": [
      "                                                          \r"
     ]
    },
    {
     "name": "stdout",
     "output_type": "stream",
     "text": [
      "Train Loss: 0.2367 | Val Loss: 1.2062 | MAE: 0.8850 | RMSE: 1.0983\n",
      "\n",
      "Epoch 16/20\n"
     ]
    },
    {
     "name": "stderr",
     "output_type": "stream",
     "text": [
      "                                                          \r"
     ]
    },
    {
     "name": "stdout",
     "output_type": "stream",
     "text": [
      "Train Loss: 0.1828 | Val Loss: 1.2795 | MAE: 0.8861 | RMSE: 1.1311\n",
      "\n",
      "Epoch 17/20\n"
     ]
    },
    {
     "name": "stderr",
     "output_type": "stream",
     "text": [
      "                                                          \r"
     ]
    },
    {
     "name": "stdout",
     "output_type": "stream",
     "text": [
      "Train Loss: 0.1662 | Val Loss: 1.2307 | MAE: 0.9076 | RMSE: 1.1094\n",
      "\n",
      "Epoch 18/20\n"
     ]
    },
    {
     "name": "stderr",
     "output_type": "stream",
     "text": [
      "                                                          \r"
     ]
    },
    {
     "name": "stdout",
     "output_type": "stream",
     "text": [
      "Train Loss: 0.1190 | Val Loss: 1.2700 | MAE: 0.9171 | RMSE: 1.1269\n",
      "\n",
      "Epoch 19/20\n"
     ]
    },
    {
     "name": "stderr",
     "output_type": "stream",
     "text": [
      "                                                          \r"
     ]
    },
    {
     "name": "stdout",
     "output_type": "stream",
     "text": [
      "Train Loss: 0.0985 | Val Loss: 1.2962 | MAE: 0.9296 | RMSE: 1.1385\n",
      "\n",
      "Epoch 20/20\n"
     ]
    },
    {
     "name": "stderr",
     "output_type": "stream",
     "text": [
      "                                                          "
     ]
    },
    {
     "name": "stdout",
     "output_type": "stream",
     "text": [
      "Train Loss: 0.0656 | Val Loss: 1.2878 | MAE: 0.9185 | RMSE: 1.1348\n"
     ]
    },
    {
     "name": "stderr",
     "output_type": "stream",
     "text": [
      "\r"
     ]
    }
   ],
   "source": [
    "device = torch.device('cuda' if torch.cuda.is_available() else 'cpu')\n",
    "print(f\"Using device: {device}\")\n",
    "\n",
    "model = TPCNetwork(num_features=num_features).to(device)\n",
    "criterion = nn.MSELoss()\n",
    "optimizer = optim.Adam(model.parameters(), lr=1e-3)\n",
    "\n",
    "# Training parameters\n",
    "num_epochs = 20\n",
    "best_val_loss = float('inf')\n",
    "save_path = 'best_tpc_model.pt'\n",
    "\n",
    "for epoch in range(num_epochs):\n",
    "    print(f\"\\nEpoch {epoch+1}/{num_epochs}\")\n",
    "    # Training\n",
    "    model.train()\n",
    "    train_loss = 0.0\n",
    "\n",
    "    for batch_X, batch_y in tqdm(train_loader, desc=\"Training\", leave=False):\n",
    "        batch_X, batch_y = batch_X.to(device), batch_y.to(device)\n",
    "        optimizer.zero_grad()\n",
    "        outputs = model(batch_X)\n",
    "        loss = criterion(outputs, batch_y)\n",
    "        loss.backward()\n",
    "        optimizer.step()\n",
    "        train_loss += loss.item() * batch_X.size(0)\n",
    "\n",
    "    train_loss /= len(train_loader.dataset)\n",
    "\n",
    "    # Validation\n",
    "    model.eval()\n",
    "    val_loss = 0.0\n",
    "    mae_sum = 0.0\n",
    "    rmse_sum = 0.0\n",
    "    with torch.no_grad():\n",
    "        for batch_X, batch_y in tqdm(val_loader, desc=\"Validation\", leave=False):\n",
    "            batch_X, batch_y = batch_X.to(device), batch_y.to(device)\n",
    "            outputs = model(batch_X)\n",
    "\n",
    "            loss = criterion(outputs, batch_y)\n",
    "            val_loss += loss.item() * batch_X.size(0)\n",
    "\n",
    "            # Calculate MAE and RMSE\n",
    "            abs_error = torch.abs(outputs - batch_y)\n",
    "            mae_sum += abs_error.sum().item()\n",
    "            squared_error = (outputs - batch_y) ** 2\n",
    "            rmse_sum += squared_error.sum().item()\n",
    "\n",
    "    # Calc avg metrics\n",
    "    val_loss /= len(val_loader.dataset)\n",
    "    mae = mae_sum / len(val_loader.dataset)\n",
    "    rmse = np.sqrt(rmse_sum / len(val_loader.dataset))\n",
    "\n",
    "    print(f\"Train Loss: {train_loss:.4f} | Val Loss: {val_loss:.4f} | MAE: {mae:.4f} | RMSE: {rmse:.4f}\")\n",
    "\n",
    "    # Save best model\n",
    "    if val_loss < best_val_loss:\n",
    "        best_val_loss = val_loss\n",
    "        torch.save(model.state_dict(), save_path)\n",
    "        print(f\"Best model saved with Val Loss: {val_loss:.4f}\")"
   ]
  },
  {
   "cell_type": "code",
   "execution_count": 51,
   "id": "08947712",
   "metadata": {},
   "outputs": [
    {
     "data": {
      "text/plain": [
       "TPCNetwork(\n",
       "  (blocks): Sequential(\n",
       "    (0): TPCBlock(\n",
       "      (feature_convs): Conv1d(64, 64, kernel_size=(3,), stride=(1,), padding=(1,), groups=64)\n",
       "      (mixing_conv): Conv1d(64, 64, kernel_size=(1,), stride=(1,))\n",
       "      (norm): BatchNorm1d(64, eps=1e-05, momentum=0.1, affine=True, track_running_stats=True)\n",
       "      (relu): ReLU()\n",
       "    )\n",
       "    (1): TPCBlock(\n",
       "      (feature_convs): Conv1d(64, 64, kernel_size=(3,), stride=(1,), padding=(1,), groups=64)\n",
       "      (mixing_conv): Conv1d(64, 64, kernel_size=(1,), stride=(1,))\n",
       "      (norm): BatchNorm1d(64, eps=1e-05, momentum=0.1, affine=True, track_running_stats=True)\n",
       "      (relu): ReLU()\n",
       "    )\n",
       "    (2): TPCBlock(\n",
       "      (feature_convs): Conv1d(64, 64, kernel_size=(3,), stride=(1,), padding=(1,), groups=64)\n",
       "      (mixing_conv): Conv1d(64, 64, kernel_size=(1,), stride=(1,))\n",
       "      (norm): BatchNorm1d(64, eps=1e-05, momentum=0.1, affine=True, track_running_stats=True)\n",
       "      (relu): ReLU()\n",
       "    )\n",
       "  )\n",
       "  (global_avg_pool): AdaptiveAvgPool1d(output_size=1)\n",
       "  (fc): Linear(in_features=64, out_features=1, bias=True)\n",
       ")"
      ]
     },
     "execution_count": 51,
     "metadata": {},
     "output_type": "execute_result"
    }
   ],
   "source": [
    "# Load best model for eval\n",
    "model.load_state_dict(torch.load('best_tpc_model.pt'))\n",
    "model.eval()"
   ]
  },
  {
   "cell_type": "code",
   "execution_count": 52,
   "id": "bb3f4edc",
   "metadata": {},
   "outputs": [],
   "source": [
    "import torch\n",
    "import torch.nn as nn\n",
    "import torch.nn.functional as F\n",
    "\n",
    "class TPCBlock(nn.Module):\n",
    "    def __init__(self, num_features):\n",
    "        super(TPCBlock, self).__init__()\n",
    "        self.temporal_conv = nn.Conv1d(num_features, num_features, kernel_size=3, padding=1, groups=num_features)\n",
    "        self.feature_mixing = nn.Conv1d(num_features, num_features, kernel_size=1)\n",
    "        self.bn = nn.BatchNorm1d(num_features)\n",
    "\n",
    "    def forward(self, x):\n",
    "        residual = x\n",
    "        x = self.temporal_conv(x)\n",
    "        x = self.feature_mixing(x)\n",
    "        x = self.bn(x)\n",
    "        x = F.relu(x)\n",
    "        return x + residual\n",
    "\n",
    "class TPCNetworkWithStatic(nn.Module):\n",
    "    def __init__(self, num_features, static_dim, hidden_dim=128):\n",
    "        super(TPCNetworkWithStatic, self).__init__()\n",
    "        self.tpc_blocks = nn.Sequential(\n",
    "            TPCBlock(num_features),\n",
    "            TPCBlock(num_features),\n",
    "            TPCBlock(num_features)\n",
    "        )\n",
    "\n",
    "        self.global_pool = nn.AdaptiveAvgPool1d(1)\n",
    "\n",
    "        self.static_fc = nn.Sequential(\n",
    "            nn.Linear(static_dim, 32),\n",
    "            nn.ReLU()\n",
    "        )\n",
    "\n",
    "        self.fc = nn.Sequential(\n",
    "            nn.Linear(num_features + 32, hidden_dim),\n",
    "            nn.ReLU(),\n",
    "            nn.Linear(hidden_dim, 1)\n",
    "        )\n",
    "\n",
    "    def forward(self, x, static_features):\n",
    "        x = x.permute(0, 2, 1)\n",
    "        x = self.tpc_blocks(x)\n",
    "        x = self.global_pool(x).squeeze(-1)\n",
    "\n",
    "        static = self.static_fc(static_features)\n",
    "\n",
    "        x = torch.cat([x, static], dim=1)\n",
    "        out = self.fc(x).squeeze(-1)\n",
    "        return out"
   ]
  },
  {
   "cell_type": "code",
   "execution_count": 53,
   "id": "84725ae5",
   "metadata": {},
   "outputs": [
    {
     "name": "stdout",
     "output_type": "stream",
     "text": [
      "torch.Size([16])\n"
     ]
    }
   ],
   "source": [
    "batch_size = 16\n",
    "time_steps = 48\n",
    "num_features = 35\n",
    "static_dim = 2\n",
    "\n",
    "model = TPCNetworkWithStatic(num_features, static_dim)\n",
    "x_time = torch.randn(batch_size, time_steps, num_features)\n",
    "x_static = torch.tensor([[25.0, 1.0]] * batch_size) # Age, Gender (1 = male)\n",
    "\n",
    "output = model(x_time, x_static)\n",
    "print(output.shape)"
   ]
  }
 ],
 "metadata": {
  "kernelspec": {
   "display_name": "Python 3",
   "language": "python",
   "name": "python3"
  },
  "language_info": {
   "codemirror_mode": {
    "name": "ipython",
    "version": 3
   },
   "file_extension": ".py",
   "mimetype": "text/x-python",
   "name": "python",
   "nbconvert_exporter": "python",
   "pygments_lexer": "ipython3",
   "version": "3.10.11"
  }
 },
 "nbformat": 4,
 "nbformat_minor": 5
}
